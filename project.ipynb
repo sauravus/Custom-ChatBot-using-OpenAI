{
 "cells": [
  {
   "cell_type": "markdown",
   "id": "124e5672",
   "metadata": {},
   "source": [
    "# Custom Chatbot Project"
   ]
  },
  {
   "cell_type": "markdown",
   "id": "2a4a94b3",
   "metadata": {},
   "source": [
    "The dataset \"2023_fashion_trends.csv\" was selected for this project. The trends, URLs, and sources for the fashion trends for 2023 are all included in this dataset. It is relevant to this job since it offers perspectives on fashion-related subjects. Furthermore, the dataset provides a variety of fashion-related content, which allows us to generate questions that cover a broad spectrum of subjects and fashions."
   ]
  },
  {
   "cell_type": "markdown",
   "id": "a63d4c5f",
   "metadata": {},
   "source": [
    "## Data Wrangling\n",
    "\n",
    "TODO: In the cells below, load your chosen dataset into a `pandas` dataframe with a column named `\"text\"`. This column should contain all of your text data, separated into at least 20 rows."
   ]
  },
  {
   "cell_type": "code",
   "execution_count": 74,
   "id": "0a595980",
   "metadata": {},
   "outputs": [],
   "source": [
    "import pandas as pd\n",
    "import numpy as np\n",
    "import openai\n",
    "import os\n",
    "from openai.embeddings_utils import distances_from_embeddings"
   ]
  },
  {
   "cell_type": "code",
   "execution_count": 75,
   "id": "c71e7efd",
   "metadata": {},
   "outputs": [],
   "source": [
    "openai.api_key = 'YOUR API KEY'\n",
    "EMBEDDING_MODEL_NAME = \"text-embedding-ada-002\"\n",
    "MAX_TOKENS = 1000"
   ]
  },
  {
   "cell_type": "code",
   "execution_count": 76,
   "id": "2e730c7e",
   "metadata": {},
   "outputs": [],
   "source": [
    "df = pd.read_csv('2023_fashion_trends.csv')"
   ]
  },
  {
   "cell_type": "code",
   "execution_count": 77,
   "id": "679339ae",
   "metadata": {},
   "outputs": [
    {
     "data": {
      "text/html": [
       "<div>\n",
       "<style scoped>\n",
       "    .dataframe tbody tr th:only-of-type {\n",
       "        vertical-align: middle;\n",
       "    }\n",
       "\n",
       "    .dataframe tbody tr th {\n",
       "        vertical-align: top;\n",
       "    }\n",
       "\n",
       "    .dataframe thead th {\n",
       "        text-align: right;\n",
       "    }\n",
       "</style>\n",
       "<table border=\"1\" class=\"dataframe\">\n",
       "  <thead>\n",
       "    <tr style=\"text-align: right;\">\n",
       "      <th></th>\n",
       "      <th>URL</th>\n",
       "      <th>Trends</th>\n",
       "      <th>Source</th>\n",
       "    </tr>\n",
       "  </thead>\n",
       "  <tbody>\n",
       "    <tr>\n",
       "      <th>0</th>\n",
       "      <td>https://www.refinery29.com/en-us/fashion-trend...</td>\n",
       "      <td>2023 Fashion Trend: Red. Glossy red hues took ...</td>\n",
       "      <td>7 Fashion Trends That Will Take Over 2023 — Sh...</td>\n",
       "    </tr>\n",
       "    <tr>\n",
       "      <th>1</th>\n",
       "      <td>https://www.refinery29.com/en-us/fashion-trend...</td>\n",
       "      <td>2023 Fashion Trend: Cargo Pants. Utilitarian w...</td>\n",
       "      <td>7 Fashion Trends That Will Take Over 2023 — Sh...</td>\n",
       "    </tr>\n",
       "    <tr>\n",
       "      <th>2</th>\n",
       "      <td>https://www.refinery29.com/en-us/fashion-trend...</td>\n",
       "      <td>2023 Fashion Trend: Sheer Clothing. \"Bare it a...</td>\n",
       "      <td>7 Fashion Trends That Will Take Over 2023 — Sh...</td>\n",
       "    </tr>\n",
       "    <tr>\n",
       "      <th>3</th>\n",
       "      <td>https://www.refinery29.com/en-us/fashion-trend...</td>\n",
       "      <td>2023 Fashion Trend: Denim Reimagined. From dou...</td>\n",
       "      <td>7 Fashion Trends That Will Take Over 2023 — Sh...</td>\n",
       "    </tr>\n",
       "    <tr>\n",
       "      <th>4</th>\n",
       "      <td>https://www.refinery29.com/en-us/fashion-trend...</td>\n",
       "      <td>2023 Fashion Trend: Shine For The Daytime. The...</td>\n",
       "      <td>7 Fashion Trends That Will Take Over 2023 — Sh...</td>\n",
       "    </tr>\n",
       "  </tbody>\n",
       "</table>\n",
       "</div>"
      ],
      "text/plain": [
       "                                                 URL  \\\n",
       "0  https://www.refinery29.com/en-us/fashion-trend...   \n",
       "1  https://www.refinery29.com/en-us/fashion-trend...   \n",
       "2  https://www.refinery29.com/en-us/fashion-trend...   \n",
       "3  https://www.refinery29.com/en-us/fashion-trend...   \n",
       "4  https://www.refinery29.com/en-us/fashion-trend...   \n",
       "\n",
       "                                              Trends  \\\n",
       "0  2023 Fashion Trend: Red. Glossy red hues took ...   \n",
       "1  2023 Fashion Trend: Cargo Pants. Utilitarian w...   \n",
       "2  2023 Fashion Trend: Sheer Clothing. \"Bare it a...   \n",
       "3  2023 Fashion Trend: Denim Reimagined. From dou...   \n",
       "4  2023 Fashion Trend: Shine For The Daytime. The...   \n",
       "\n",
       "                                              Source  \n",
       "0  7 Fashion Trends That Will Take Over 2023 — Sh...  \n",
       "1  7 Fashion Trends That Will Take Over 2023 — Sh...  \n",
       "2  7 Fashion Trends That Will Take Over 2023 — Sh...  \n",
       "3  7 Fashion Trends That Will Take Over 2023 — Sh...  \n",
       "4  7 Fashion Trends That Will Take Over 2023 — Sh...  "
      ]
     },
     "execution_count": 77,
     "metadata": {},
     "output_type": "execute_result"
    }
   ],
   "source": [
    "df.head()"
   ]
  },
  {
   "cell_type": "code",
   "execution_count": 78,
   "id": "21bca777",
   "metadata": {},
   "outputs": [],
   "source": [
    "df['text'] = 'Source: ' + df['Source'] + ' --> ' + df['Trends']"
   ]
  },
  {
   "cell_type": "code",
   "execution_count": 79,
   "id": "85cdbd20",
   "metadata": {},
   "outputs": [],
   "source": [
    "embeddings = []"
   ]
  },
  {
   "cell_type": "code",
   "execution_count": 80,
   "id": "d1e91219",
   "metadata": {},
   "outputs": [],
   "source": [
    "for index, row in df1.iterrows():\n",
    "  response = openai.Embedding.create(\n",
    "      input=row[\"text\"],\n",
    "      engine=EMBEDDING_MODEL_NAME\n",
    "  )\n",
    "  embeddings.extend([data[\"embedding\"] for data in response[\"data\"]])\n",
    "df[\"embeddings\"] = embeddings"
   ]
  },
  {
   "cell_type": "code",
   "execution_count": 81,
   "id": "c7690a91",
   "metadata": {},
   "outputs": [],
   "source": [
    "df[[\"text\", \"embeddings\"]].to_csv(\"fashion_trends_embeddings.csv\")"
   ]
  },
  {
   "cell_type": "markdown",
   "id": "ae769871",
   "metadata": {},
   "source": [
    "## Custom Query Completion\n",
    "\n",
    "TODO: In the cells below, compose a custom query using your chosen dataset and retrieve results from an OpenAI `Completion` model. You may copy and paste any useful code from the course materials."
   ]
  },
  {
   "cell_type": "code",
   "execution_count": 82,
   "id": "efa61817",
   "metadata": {},
   "outputs": [
    {
     "data": {
      "text/html": [
       "<div>\n",
       "<style scoped>\n",
       "    .dataframe tbody tr th:only-of-type {\n",
       "        vertical-align: middle;\n",
       "    }\n",
       "\n",
       "    .dataframe tbody tr th {\n",
       "        vertical-align: top;\n",
       "    }\n",
       "\n",
       "    .dataframe thead th {\n",
       "        text-align: right;\n",
       "    }\n",
       "</style>\n",
       "<table border=\"1\" class=\"dataframe\">\n",
       "  <thead>\n",
       "    <tr style=\"text-align: right;\">\n",
       "      <th></th>\n",
       "      <th>text</th>\n",
       "      <th>embeddings</th>\n",
       "    </tr>\n",
       "  </thead>\n",
       "  <tbody>\n",
       "    <tr>\n",
       "      <th>0</th>\n",
       "      <td>Source: 7 Fashion Trends That Will Take Over 2...</td>\n",
       "      <td>[-0.013025907799601555, -0.023445330560207367,...</td>\n",
       "    </tr>\n",
       "    <tr>\n",
       "      <th>1</th>\n",
       "      <td>Source: 7 Fashion Trends That Will Take Over 2...</td>\n",
       "      <td>[-0.0012024756288155913, -0.028465161100029945...</td>\n",
       "    </tr>\n",
       "    <tr>\n",
       "      <th>2</th>\n",
       "      <td>Source: 7 Fashion Trends That Will Take Over 2...</td>\n",
       "      <td>[-0.005991143640130758, -0.021644994616508484,...</td>\n",
       "    </tr>\n",
       "    <tr>\n",
       "      <th>3</th>\n",
       "      <td>Source: 7 Fashion Trends That Will Take Over 2...</td>\n",
       "      <td>[-0.012575166299939156, -0.008558006957173347,...</td>\n",
       "    </tr>\n",
       "    <tr>\n",
       "      <th>4</th>\n",
       "      <td>Source: 7 Fashion Trends That Will Take Over 2...</td>\n",
       "      <td>[-0.0027159699238836765, -0.002417146926745772...</td>\n",
       "    </tr>\n",
       "  </tbody>\n",
       "</table>\n",
       "</div>"
      ],
      "text/plain": [
       "                                                text  \\\n",
       "0  Source: 7 Fashion Trends That Will Take Over 2...   \n",
       "1  Source: 7 Fashion Trends That Will Take Over 2...   \n",
       "2  Source: 7 Fashion Trends That Will Take Over 2...   \n",
       "3  Source: 7 Fashion Trends That Will Take Over 2...   \n",
       "4  Source: 7 Fashion Trends That Will Take Over 2...   \n",
       "\n",
       "                                          embeddings  \n",
       "0  [-0.013025907799601555, -0.023445330560207367,...  \n",
       "1  [-0.0012024756288155913, -0.028465161100029945...  \n",
       "2  [-0.005991143640130758, -0.021644994616508484,...  \n",
       "3  [-0.012575166299939156, -0.008558006957173347,...  \n",
       "4  [-0.0027159699238836765, -0.002417146926745772...  "
      ]
     },
     "execution_count": 82,
     "metadata": {},
     "output_type": "execute_result"
    }
   ],
   "source": [
    "df = pd.read_csv('fashion_trends_embeddings.csv', index_col=0)\n",
    "df[\"embeddings\"] = df[\"embeddings\"].apply(eval).apply(np.array)\n",
    "df.head()"
   ]
  },
  {
   "cell_type": "code",
   "execution_count": 83,
   "id": "20b8ffff",
   "metadata": {},
   "outputs": [],
   "source": [
    "def question_embeddings(question):\n",
    "  response = openai.Embedding.create(\n",
    "      input = question,\n",
    "      engine = EMBEDDING_MODEL_NAME\n",
    "  )\n",
    "  return response[\"data\"][0][\"embedding\"]"
   ]
  },
  {
   "cell_type": "code",
   "execution_count": 84,
   "id": "582f0656",
   "metadata": {},
   "outputs": [],
   "source": [
    "q1 = \"Which company has been using the dolly theme for a while?\"\n",
    "q2 = \"In which event was the pinstriped version of the suit vest seen?\"\n",
    "\n",
    "q1_embeddings = question_embeddings(q1)\n",
    "q2_embeddings = question_embeddings(q2)"
   ]
  },
  {
   "cell_type": "code",
   "execution_count": 85,
   "id": "cc283d3e",
   "metadata": {},
   "outputs": [],
   "source": [
    "df['q1_distances'] = distances_from_embeddings(\n",
    "  q1_embeddings,\n",
    "  df['embeddings'].values,\n",
    "  distance_metric=\"cosine\"\n",
    ")"
   ]
  },
  {
   "cell_type": "code",
   "execution_count": 86,
   "id": "c9cefae8",
   "metadata": {},
   "outputs": [],
   "source": [
    "df['q2_distances'] = distances_from_embeddings(\n",
    "  q2_embeddings,\n",
    "  df['embeddings'].values,\n",
    "  distance_metric=\"cosine\"\n",
    ")"
   ]
  },
  {
   "cell_type": "code",
   "execution_count": 87,
   "id": "8b6e1f75",
   "metadata": {},
   "outputs": [],
   "source": [
    "df.head()\n",
    "dfq1 = df.sort_values(by=[\"q1_distances\"], ascending=True)\n",
    "dfq2 = df.sort_values(by=[\"q2_distances\"], ascending=True)"
   ]
  },
  {
   "cell_type": "code",
   "execution_count": 88,
   "id": "13f2dcd7",
   "metadata": {},
   "outputs": [
    {
     "data": {
      "text/html": [
       "<div>\n",
       "<style scoped>\n",
       "    .dataframe tbody tr th:only-of-type {\n",
       "        vertical-align: middle;\n",
       "    }\n",
       "\n",
       "    .dataframe tbody tr th {\n",
       "        vertical-align: top;\n",
       "    }\n",
       "\n",
       "    .dataframe thead th {\n",
       "        text-align: right;\n",
       "    }\n",
       "</style>\n",
       "<table border=\"1\" class=\"dataframe\">\n",
       "  <thead>\n",
       "    <tr style=\"text-align: right;\">\n",
       "      <th></th>\n",
       "      <th>text</th>\n",
       "      <th>embeddings</th>\n",
       "      <th>q1_distances</th>\n",
       "      <th>q2_distances</th>\n",
       "    </tr>\n",
       "  </thead>\n",
       "  <tbody>\n",
       "    <tr>\n",
       "      <th>62</th>\n",
       "      <td>Source: Spring/Summer 2023 Fashion Trends: 21 ...</td>\n",
       "      <td>[-0.03368574008345604, -0.004947429522871971, ...</td>\n",
       "      <td>0.233142</td>\n",
       "      <td>0.245333</td>\n",
       "    </tr>\n",
       "    <tr>\n",
       "      <th>55</th>\n",
       "      <td>Source: Spring/Summer 2023 Fashion Trends: 21 ...</td>\n",
       "      <td>[-0.02430758625268936, -0.002528405049815774, ...</td>\n",
       "      <td>0.253011</td>\n",
       "      <td>0.231840</td>\n",
       "    </tr>\n",
       "    <tr>\n",
       "      <th>64</th>\n",
       "      <td>Source: Spring/Summer 2023 Fashion Trends: 21 ...</td>\n",
       "      <td>[-0.01614186353981495, -0.009283903986215591, ...</td>\n",
       "      <td>0.256301</td>\n",
       "      <td>0.236784</td>\n",
       "    </tr>\n",
       "    <tr>\n",
       "      <th>75</th>\n",
       "      <td>Source: Spring/Summer 2023 Fashion Trends: 21 ...</td>\n",
       "      <td>[-0.037023838609457016, -0.010987632907927036,...</td>\n",
       "      <td>0.256869</td>\n",
       "      <td>0.229826</td>\n",
       "    </tr>\n",
       "    <tr>\n",
       "      <th>52</th>\n",
       "      <td>Source: Spring/Summer 2023 Fashion Trends: 21 ...</td>\n",
       "      <td>[-0.01960800401866436, -0.001156726386398077, ...</td>\n",
       "      <td>0.264842</td>\n",
       "      <td>0.243356</td>\n",
       "    </tr>\n",
       "  </tbody>\n",
       "</table>\n",
       "</div>"
      ],
      "text/plain": [
       "                                                 text  \\\n",
       "62  Source: Spring/Summer 2023 Fashion Trends: 21 ...   \n",
       "55  Source: Spring/Summer 2023 Fashion Trends: 21 ...   \n",
       "64  Source: Spring/Summer 2023 Fashion Trends: 21 ...   \n",
       "75  Source: Spring/Summer 2023 Fashion Trends: 21 ...   \n",
       "52  Source: Spring/Summer 2023 Fashion Trends: 21 ...   \n",
       "\n",
       "                                           embeddings  q1_distances  \\\n",
       "62  [-0.03368574008345604, -0.004947429522871971, ...      0.233142   \n",
       "55  [-0.02430758625268936, -0.002528405049815774, ...      0.253011   \n",
       "64  [-0.01614186353981495, -0.009283903986215591, ...      0.256301   \n",
       "75  [-0.037023838609457016, -0.010987632907927036,...      0.256869   \n",
       "52  [-0.01960800401866436, -0.001156726386398077, ...      0.264842   \n",
       "\n",
       "    q2_distances  \n",
       "62      0.245333  \n",
       "55      0.231840  \n",
       "64      0.236784  \n",
       "75      0.229826  \n",
       "52      0.243356  "
      ]
     },
     "execution_count": 88,
     "metadata": {},
     "output_type": "execute_result"
    }
   ],
   "source": [
    "dfq1.head()"
   ]
  },
  {
   "cell_type": "code",
   "execution_count": 89,
   "id": "c403f543",
   "metadata": {},
   "outputs": [
    {
     "data": {
      "text/html": [
       "<div>\n",
       "<style scoped>\n",
       "    .dataframe tbody tr th:only-of-type {\n",
       "        vertical-align: middle;\n",
       "    }\n",
       "\n",
       "    .dataframe tbody tr th {\n",
       "        vertical-align: top;\n",
       "    }\n",
       "\n",
       "    .dataframe thead th {\n",
       "        text-align: right;\n",
       "    }\n",
       "</style>\n",
       "<table border=\"1\" class=\"dataframe\">\n",
       "  <thead>\n",
       "    <tr style=\"text-align: right;\">\n",
       "      <th></th>\n",
       "      <th>text</th>\n",
       "      <th>embeddings</th>\n",
       "      <th>q1_distances</th>\n",
       "      <th>q2_distances</th>\n",
       "    </tr>\n",
       "  </thead>\n",
       "  <tbody>\n",
       "    <tr>\n",
       "      <th>38</th>\n",
       "      <td>Source: These Are the Spring 2023 Trends Vogue...</td>\n",
       "      <td>[-0.012374293059110641, -0.0005402872338891029...</td>\n",
       "      <td>0.265285</td>\n",
       "      <td>0.150580</td>\n",
       "    </tr>\n",
       "    <tr>\n",
       "      <th>25</th>\n",
       "      <td>Source: These Are the Spring 2023 Trends Vogue...</td>\n",
       "      <td>[-0.014497331343591213, -0.02013295143842697, ...</td>\n",
       "      <td>0.274717</td>\n",
       "      <td>0.225230</td>\n",
       "    </tr>\n",
       "    <tr>\n",
       "      <th>23</th>\n",
       "      <td>Source: These Are the Spring 2023 Trends Vogue...</td>\n",
       "      <td>[-0.02915928326547146, -0.023916088044643402, ...</td>\n",
       "      <td>0.276595</td>\n",
       "      <td>0.225361</td>\n",
       "    </tr>\n",
       "    <tr>\n",
       "      <th>22</th>\n",
       "      <td>Source: These Are the Spring 2023 Trends Vogue...</td>\n",
       "      <td>[-0.026542559266090393, -0.01678287796676159, ...</td>\n",
       "      <td>0.278781</td>\n",
       "      <td>0.225457</td>\n",
       "    </tr>\n",
       "    <tr>\n",
       "      <th>70</th>\n",
       "      <td>Source: Spring/Summer 2023 Fashion Trends: 21 ...</td>\n",
       "      <td>[-0.00910821184515953, -0.010854345746338367, ...</td>\n",
       "      <td>0.283255</td>\n",
       "      <td>0.225817</td>\n",
       "    </tr>\n",
       "  </tbody>\n",
       "</table>\n",
       "</div>"
      ],
      "text/plain": [
       "                                                 text  \\\n",
       "38  Source: These Are the Spring 2023 Trends Vogue...   \n",
       "25  Source: These Are the Spring 2023 Trends Vogue...   \n",
       "23  Source: These Are the Spring 2023 Trends Vogue...   \n",
       "22  Source: These Are the Spring 2023 Trends Vogue...   \n",
       "70  Source: Spring/Summer 2023 Fashion Trends: 21 ...   \n",
       "\n",
       "                                           embeddings  q1_distances  \\\n",
       "38  [-0.012374293059110641, -0.0005402872338891029...      0.265285   \n",
       "25  [-0.014497331343591213, -0.02013295143842697, ...      0.274717   \n",
       "23  [-0.02915928326547146, -0.023916088044643402, ...      0.276595   \n",
       "22  [-0.026542559266090393, -0.01678287796676159, ...      0.278781   \n",
       "70  [-0.00910821184515953, -0.010854345746338367, ...      0.283255   \n",
       "\n",
       "    q2_distances  \n",
       "38      0.150580  \n",
       "25      0.225230  \n",
       "23      0.225361  \n",
       "22      0.225457  \n",
       "70      0.225817  "
      ]
     },
     "execution_count": 89,
     "metadata": {},
     "output_type": "execute_result"
    }
   ],
   "source": [
    "dfq2.head()"
   ]
  },
  {
   "cell_type": "code",
   "execution_count": 90,
   "id": "74280b92",
   "metadata": {},
   "outputs": [],
   "source": [
    "import tiktoken\n",
    "tokenizer = tiktoken.get_encoding(\"cl100k_base\")\n",
    "prompt_template = \"\"\"\n",
    "Answer the question based on the context below, and if the\n",
    "question can't be answered based on the context, say\n",
    "\"I don't know\"\n",
    "\n",
    "Context:\n",
    "\n",
    "{}\n",
    "\n",
    "---\n",
    "\n",
    "Question: {}\n",
    "Answer:\"\"\"\n",
    "def get_prompt(question, df):\n",
    "  token_count = len(tokenizer.encode(prompt_template)) + len(tokenizer.encode(question))\n",
    "  context_list = []\n",
    "  for text in df[\"text\"].head(10).values:\n",
    "    token_count += len(tokenizer.encode(text))\n",
    "    if token_count <= MAX_TOKENS:\n",
    "        context_list.append(text)\n",
    "    else:\n",
    "        break\n",
    "  prompt = prompt_template.format(\"\\n\\n###\\n\\n\".join(context_list), question)\n",
    "  return prompt\n"
   ]
  },
  {
   "cell_type": "code",
   "execution_count": 91,
   "id": "34fd0cd9",
   "metadata": {},
   "outputs": [],
   "source": [
    "q1_prompt = get_prompt(q1, dfq1)\n",
    "q2_prompt=get_prompt(q2, dfq2)"
   ]
  },
  {
   "cell_type": "markdown",
   "id": "1783f146",
   "metadata": {},
   "source": [
    "## Custom Performance Demonstration\n",
    "\n",
    "TODO: In the cells below, demonstrate the performance of your custom query using at least 2 questions. For each question, show the answer from a basic `Completion` model query as well as the answer from your custom query."
   ]
  },
  {
   "cell_type": "markdown",
   "id": "4f11fdc0",
   "metadata": {},
   "source": [
    "### Question 1"
   ]
  },
  {
   "cell_type": "code",
   "execution_count": 92,
   "id": "4901c850",
   "metadata": {},
   "outputs": [
    {
     "name": "stdout",
     "output_type": "stream",
     "text": [
      "Gucci\n"
     ]
    }
   ],
   "source": [
    "COMPLETION_MODEL_NAME = \"gpt-3.5-turbo-instruct\"\n",
    "response = openai.Completion.create(\n",
    "    model=COMPLETION_MODEL_NAME,\n",
    "    prompt=q1_prompt,\n",
    "    max_tokens=150\n",
    ")\n",
    "answer = response[\"choices\"][0][\"text\"].strip()\n",
    "print(answer)"
   ]
  },
  {
   "cell_type": "markdown",
   "id": "6e86e37c",
   "metadata": {},
   "source": [
    "### Question 2"
   ]
  },
  {
   "cell_type": "code",
   "execution_count": 93,
   "id": "6f646989",
   "metadata": {},
   "outputs": [
    {
     "name": "stdout",
     "output_type": "stream",
     "text": [
      "Coperni SS23 show.\n"
     ]
    }
   ],
   "source": [
    "COMPLETION_MODEL_NAME = \"gpt-3.5-turbo-instruct\"\n",
    "response = openai.Completion.create(\n",
    "    model=COMPLETION_MODEL_NAME,\n",
    "    prompt=q2_prompt,\n",
    "    max_tokens=150\n",
    ")\n",
    "answer = response[\"choices\"][0][\"text\"].strip()\n",
    "print(answer)"
   ]
  },
  {
   "cell_type": "code",
   "execution_count": null,
   "id": "11c07a54",
   "metadata": {},
   "outputs": [],
   "source": []
  }
 ],
 "metadata": {
  "kernelspec": {
   "display_name": "Python 3 (ipykernel)",
   "language": "python",
   "name": "python3"
  },
  "language_info": {
   "codemirror_mode": {
    "name": "ipython",
    "version": 3
   },
   "file_extension": ".py",
   "mimetype": "text/x-python",
   "name": "python",
   "nbconvert_exporter": "python",
   "pygments_lexer": "ipython3",
   "version": "3.9.18"
  }
 },
 "nbformat": 4,
 "nbformat_minor": 5
}
